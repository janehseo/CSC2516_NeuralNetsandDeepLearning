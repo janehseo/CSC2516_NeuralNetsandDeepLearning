{
 "cells": [
  {
   "cell_type": "markdown",
   "metadata": {
    "id": "3KSUpX1-P1uv"
   },
   "source": [
    "#Part 4 Fine-tuning for arithmetic sentiment analysis\n",
    "\n",
    "Acknowledgement: We used most of the code from https://mccormickml.com/2019/07/22/BERT-fine-tuning/ \n",
    "\n",
    "Most Credit to: \n",
    "Chris McCormick and Nick Ryan"
   ]
  },
  {
   "cell_type": "markdown",
   "metadata": {
    "id": "l47jS3ifQJz3"
   },
   "source": [
    "# Background"
   ]
  },
  {
   "cell_type": "markdown",
   "metadata": {
    "id": "vy13-DMJckYt"
   },
   "source": [
    "# 1. Setup"
   ]
  },
  {
   "cell_type": "markdown",
   "metadata": {
    "id": "00GDvCJucnpv"
   },
   "source": [
    "## Install transformers repo that has Bert and GPT"
   ]
  },
  {
   "cell_type": "code",
   "execution_count": 1,
   "metadata": {
    "colab": {
     "base_uri": "https://localhost:8080/"
    },
    "id": "7AIe26NRcuYZ",
    "outputId": "4875302a-0fdb-45ba-8f85-cc035bf14a60"
   },
   "outputs": [
    {
     "name": "stdout",
     "output_type": "stream",
     "text": [
      "Requirement already satisfied: transformers in /usr/local/lib/python3.7/dist-packages (4.4.2)\n",
      "Requirement already satisfied: importlib-metadata; python_version < \"3.8\" in /usr/local/lib/python3.7/dist-packages (from transformers) (3.7.2)\n",
      "Requirement already satisfied: tokenizers<0.11,>=0.10.1 in /usr/local/lib/python3.7/dist-packages (from transformers) (0.10.1)\n",
      "Requirement already satisfied: tqdm>=4.27 in /usr/local/lib/python3.7/dist-packages (from transformers) (4.41.1)\n",
      "Requirement already satisfied: numpy>=1.17 in /usr/local/lib/python3.7/dist-packages (from transformers) (1.19.5)\n",
      "Requirement already satisfied: sacremoses in /usr/local/lib/python3.7/dist-packages (from transformers) (0.0.43)\n",
      "Requirement already satisfied: filelock in /usr/local/lib/python3.7/dist-packages (from transformers) (3.0.12)\n",
      "Requirement already satisfied: packaging in /usr/local/lib/python3.7/dist-packages (from transformers) (20.9)\n",
      "Requirement already satisfied: requests in /usr/local/lib/python3.7/dist-packages (from transformers) (2.23.0)\n",
      "Requirement already satisfied: regex!=2019.12.17 in /usr/local/lib/python3.7/dist-packages (from transformers) (2019.12.20)\n",
      "Requirement already satisfied: zipp>=0.5 in /usr/local/lib/python3.7/dist-packages (from importlib-metadata; python_version < \"3.8\"->transformers) (3.4.1)\n",
      "Requirement already satisfied: typing-extensions>=3.6.4; python_version < \"3.8\" in /usr/local/lib/python3.7/dist-packages (from importlib-metadata; python_version < \"3.8\"->transformers) (3.7.4.3)\n",
      "Requirement already satisfied: six in /usr/local/lib/python3.7/dist-packages (from sacremoses->transformers) (1.15.0)\n",
      "Requirement already satisfied: click in /usr/local/lib/python3.7/dist-packages (from sacremoses->transformers) (7.1.2)\n",
      "Requirement already satisfied: joblib in /usr/local/lib/python3.7/dist-packages (from sacremoses->transformers) (1.0.1)\n",
      "Requirement already satisfied: pyparsing>=2.0.2 in /usr/local/lib/python3.7/dist-packages (from packaging->transformers) (2.4.7)\n",
      "Requirement already satisfied: chardet<4,>=3.0.2 in /usr/local/lib/python3.7/dist-packages (from requests->transformers) (3.0.4)\n",
      "Requirement already satisfied: certifi>=2017.4.17 in /usr/local/lib/python3.7/dist-packages (from requests->transformers) (2020.12.5)\n",
      "Requirement already satisfied: urllib3!=1.25.0,!=1.25.1,<1.26,>=1.21.1 in /usr/local/lib/python3.7/dist-packages (from requests->transformers) (1.24.3)\n",
      "Requirement already satisfied: idna<3,>=2.5 in /usr/local/lib/python3.7/dist-packages (from requests->transformers) (2.10)\n"
     ]
    }
   ],
   "source": [
    "!pip install transformers"
   ]
  },
  {
   "cell_type": "markdown",
   "metadata": {
    "id": "p18ZuvMUcyQE"
   },
   "source": [
    "## Set random seed"
   ]
  },
  {
   "cell_type": "code",
   "execution_count": 2,
   "metadata": {
    "id": "bkGc79g2c3DL"
   },
   "outputs": [],
   "source": [
    "import random\n",
    "import numpy as np\n",
    "import torch\n",
    "\n",
    "seed_val = 42\n",
    "\n",
    "random.seed(seed_val)\n",
    "np.random.seed(seed_val)\n",
    "torch.manual_seed(seed_val)\n",
    "torch.cuda.manual_seed_all(seed_val)"
   ]
  },
  {
   "cell_type": "markdown",
   "metadata": {
    "id": "IJynoDMfc6Tr"
   },
   "source": [
    "## Download & Extract\n",
    "Run the following cells to downlaod the dataset files from the CSC413 webpage.\n",
    "\n",
    "<!-- Download the two csv dataset files from CSC413 webpage, click the folder icon,  -->\n",
    "<!-- and click \"upload\" to upload them.  -->\n",
    "\n",
    "<!-- https://csc413-2020.github.io/assets/misc/PA03_data_20_train.csv \n",
    "\n",
    "https://csc413-2020.github.io/assets/misc/PA03_data_20_test.csv   -->"
   ]
  },
  {
   "cell_type": "code",
   "execution_count": 3,
   "metadata": {
    "colab": {
     "base_uri": "https://localhost:8080/"
    },
    "id": "DFvJibK2wEdP",
    "outputId": "d7c2ecd8-9be2-4244-d7f7-e0ab360c1b97"
   },
   "outputs": [
    {
     "name": "stdout",
     "output_type": "stream",
     "text": [
      "Requirement already satisfied: wget in /usr/local/lib/python3.7/dist-packages (3.2)\n"
     ]
    }
   ],
   "source": [
    "!pip install wget"
   ]
  },
  {
   "cell_type": "code",
   "execution_count": 4,
   "metadata": {
    "colab": {
     "base_uri": "https://localhost:8080/"
    },
    "id": "uN77phG-f3DY",
    "outputId": "59054d8a-02e2-4e74-89b1-2e3f571aac9f"
   },
   "outputs": [
    {
     "name": "stdout",
     "output_type": "stream",
     "text": [
      "Downloading verbal arithmetic dataset\n",
      "Already downloaded training data\n",
      "Already downloaded test data\n"
     ]
    }
   ],
   "source": [
    "import wget\n",
    "import os\n",
    "\n",
    "print('Downloading verbal arithmetic dataset')\n",
    "\n",
    "# The URL for the dataset zip file.\n",
    "url = 'https://csc413-uoft.github.io/2021/assets/misc/'\n",
    "\n",
    "# Download the file (if we haven't already)\n",
    "if not os.path.exists('./PA03_data_20_train.csv'):\n",
    "  wget.download(url + 'PA03_data_20_train.csv', './PA03_data_20_train.csv')\n",
    "  print('Done downloading training data')\n",
    "else:\n",
    "  print('Already downloaded training data')\n",
    "\n",
    "if not os.path.exists('./PA03_data_20_test.csv'):\n",
    "  wget.download(url + 'PA03_data_20_test.csv', './PA03_data_20_test.csv')\n",
    "  print('Done downloading test data')\n",
    "else:\n",
    "  print('Already downloaded test data')"
   ]
  },
  {
   "cell_type": "markdown",
   "metadata": {
    "id": "iylR87jhf440"
   },
   "source": [
    "##  Load Training Data"
   ]
  },
  {
   "cell_type": "code",
   "execution_count": 5,
   "metadata": {
    "colab": {
     "base_uri": "https://localhost:8080/",
     "height": 376
    },
    "id": "ovSDN8kBf_zF",
    "outputId": "0607389c-c23c-4d48-cd67-5333fede438c"
   },
   "outputs": [
    {
     "name": "stdout",
     "output_type": "stream",
     "text": [
      "Number of data points:  640\n"
     ]
    },
    {
     "data": {
      "text/html": [
       "<div>\n",
       "<style scoped>\n",
       "    .dataframe tbody tr th:only-of-type {\n",
       "        vertical-align: middle;\n",
       "    }\n",
       "\n",
       "    .dataframe tbody tr th {\n",
       "        vertical-align: top;\n",
       "    }\n",
       "\n",
       "    .dataframe thead th {\n",
       "        text-align: right;\n",
       "    }\n",
       "</style>\n",
       "<table border=\"1\" class=\"dataframe\">\n",
       "  <thead>\n",
       "    <tr style=\"text-align: right;\">\n",
       "      <th></th>\n",
       "      <th>index</th>\n",
       "      <th>input</th>\n",
       "      <th>label</th>\n",
       "    </tr>\n",
       "  </thead>\n",
       "  <tbody>\n",
       "    <tr>\n",
       "      <th>20</th>\n",
       "      <td>264</td>\n",
       "      <td>thirteen plus four</td>\n",
       "      <td>2</td>\n",
       "    </tr>\n",
       "    <tr>\n",
       "      <th>180</th>\n",
       "      <td>712</td>\n",
       "      <td>fifteen minus twelve</td>\n",
       "      <td>2</td>\n",
       "    </tr>\n",
       "    <tr>\n",
       "      <th>270</th>\n",
       "      <td>327</td>\n",
       "      <td>sixteen plus seven</td>\n",
       "      <td>2</td>\n",
       "    </tr>\n",
       "    <tr>\n",
       "      <th>221</th>\n",
       "      <td>58</td>\n",
       "      <td>two plus eighteen</td>\n",
       "      <td>2</td>\n",
       "    </tr>\n",
       "    <tr>\n",
       "      <th>542</th>\n",
       "      <td>646</td>\n",
       "      <td>twelve minus six</td>\n",
       "      <td>2</td>\n",
       "    </tr>\n",
       "    <tr>\n",
       "      <th>143</th>\n",
       "      <td>626</td>\n",
       "      <td>eleven minus six</td>\n",
       "      <td>2</td>\n",
       "    </tr>\n",
       "    <tr>\n",
       "      <th>247</th>\n",
       "      <td>759</td>\n",
       "      <td>seventeen minus nineteen</td>\n",
       "      <td>0</td>\n",
       "    </tr>\n",
       "    <tr>\n",
       "      <th>467</th>\n",
       "      <td>691</td>\n",
       "      <td>fourteen minus eleven</td>\n",
       "      <td>2</td>\n",
       "    </tr>\n",
       "    <tr>\n",
       "      <th>283</th>\n",
       "      <td>372</td>\n",
       "      <td>eighteen plus twelve</td>\n",
       "      <td>2</td>\n",
       "    </tr>\n",
       "    <tr>\n",
       "      <th>259</th>\n",
       "      <td>274</td>\n",
       "      <td>thirteen plus fourteen</td>\n",
       "      <td>2</td>\n",
       "    </tr>\n",
       "  </tbody>\n",
       "</table>\n",
       "</div>"
      ],
      "text/plain": [
       "     index                     input  label\n",
       "20     264        thirteen plus four      2\n",
       "180    712      fifteen minus twelve      2\n",
       "270    327        sixteen plus seven      2\n",
       "221     58         two plus eighteen      2\n",
       "542    646          twelve minus six      2\n",
       "143    626          eleven minus six      2\n",
       "247    759  seventeen minus nineteen      0\n",
       "467    691     fourteen minus eleven      2\n",
       "283    372      eighteen plus twelve      2\n",
       "259    274    thirteen plus fourteen      2"
      ]
     },
     "execution_count": 5,
     "metadata": {
      "tags": []
     },
     "output_type": "execute_result"
    }
   ],
   "source": [
    "import pandas as pd\n",
    "\n",
    "df = pd.read_csv(\"./PA03_data_20_train.csv\", header=0, names=[\"index\", \"input\", \"label\"])\n",
    "\n",
    "print(\"Number of data points: \", df.shape[0])\n",
    "sampled = df.sample(10)\n",
    "# Display 10 random rows from the data.\n",
    "df.sample(10)"
   ]
  },
  {
   "cell_type": "markdown",
   "metadata": {
    "id": "oyNFphizgCiM"
   },
   "source": [
    "## Bert Tokenizer\n",
    "\n",
    "To feed our text to BERT, it must be split into tokens, and then these tokens must be mapped to their index in the tokenizer vocabulary.\n"
   ]
  },
  {
   "cell_type": "code",
   "execution_count": 6,
   "metadata": {
    "colab": {
     "base_uri": "https://localhost:8080/"
    },
    "id": "JazZH2kzgHF_",
    "outputId": "37c2fdb4-3876-4dcf-9253-1cf3093f66a2"
   },
   "outputs": [
    {
     "name": "stdout",
     "output_type": "stream",
     "text": [
      "Loading BERT tokenizer...\n"
     ]
    }
   ],
   "source": [
    "# try bert tokenizer\n",
    "from transformers import BertTokenizer\n",
    "\n",
    "# Load the BERT tokenizer.\n",
    "print('Loading BERT tokenizer...')\n",
    "bert_tokenizer = BertTokenizer.from_pretrained('bert-base-uncased', do_lower_case=True)"
   ]
  },
  {
   "cell_type": "code",
   "execution_count": 7,
   "metadata": {
    "colab": {
     "base_uri": "https://localhost:8080/"
    },
    "id": "HwJi4x1sgYKX",
    "outputId": "498a7561-6d4a-46ca-923a-281e593f363d"
   },
   "outputs": [
    {
     "name": "stdout",
     "output_type": "stream",
     "text": [
      "Train data size  640\n",
      " Original:  five minus twelve\n",
      "Tokenized:  ['five', 'minus', 'twelve']\n",
      "Token IDs:  [2274, 15718, 4376]\n"
     ]
    }
   ],
   "source": [
    "inputs = df.input.values\n",
    "labels = df.label.values\n",
    "print(\"Train data size \", len(inputs))\n",
    "print(' Original: ', inputs[0])\n",
    "# Print the sentence split into tokens.\n",
    "print('Tokenized: ', bert_tokenizer.tokenize(inputs[0]))\n",
    "# Print the sentence mapped to token ids.\n",
    "print('Token IDs: ', bert_tokenizer.convert_tokens_to_ids(bert_tokenizer.tokenize(inputs[0])))"
   ]
  },
  {
   "cell_type": "markdown",
   "metadata": {
    "id": "iznyPgnlgZTI"
   },
   "source": [
    "We can actually use the `tokenizer.__call__` function to handle both steps, rather than calling `tokenize` and `convert_tokens_to_ids` separately."
   ]
  },
  {
   "cell_type": "markdown",
   "metadata": {
    "id": "4RenfgCJg4Fi"
   },
   "source": [
    "## BERT Required Formatting\n",
    "\n",
    "1. Add special tokens to the start and end of each sentence.\n",
    "2. Pad & truncate all sentences to a single constant length.\n",
    "3. Explicitly differentiate real tokens from padding tokens with the \"attention mask\".\n"
   ]
  },
  {
   "cell_type": "markdown",
   "metadata": {
    "id": "pkWOVuJohI3q"
   },
   "source": [
    "### Special Tokens\n",
    "\n",
    "**`[SEP]`**\n",
    "\n",
    "At the end of every sentence, we need to append the special `[SEP]` token. \n",
    "\n",
    "This token is an artifact of two-sentence tasks, where BERT is given two separate sentences and asked to determine something (e.g., can the answer to the question in sentence A be found in sentence B?). \n",
    "\n",
    "**`[CLS]`**\n",
    "\n",
    "For classification tasks, we must prepend the special `[CLS]` token to the beginning of every sentence.\n",
    "\n",
    "This token has special significance. BERT consists of 12 Transformer layers. Each transformer takes in a list of token embeddings, and produces the same number of embeddings on the output.\n",
    "\n",
    "On the output of the final transformer, *only the first embedding (corresponding to the [CLS] token) is used by the classifier*.\n",
    "\n",
    ">  \"The first token of every sequence is always a special classification token (`[CLS]`). The final hidden state\n",
    "corresponding to this token is used as the aggregate sequence representation for classification\n",
    "tasks.\" (from the [BERT paper](https://arxiv.org/pdf/1810.04805.pdf))\n",
    "\n",
    "Also, because BERT is trained to only use this [CLS] token for classification, we know that the model has been motivated to encode everything it needs for the classification step into that single 768-value embedding vector."
   ]
  },
  {
   "cell_type": "markdown",
   "metadata": {
    "id": "PrvaiOR2hAEH"
   },
   "source": [
    "### Sentence Length & Attention Mask\n",
    "\n",
    "The sentences in our dataset obviously have varying lengths, so how does BERT handle this?\n",
    "\n",
    "BERT has two constraints:\n",
    "1. All sentences must be padded or truncated to a single, fixed length.\n",
    "2. The maximum sentence length is 512 tokens.\n",
    "\n",
    "Padding is done with a special `[PAD]` token, which is at index 0 in the BERT vocabulary. \n",
    "\n",
    "The \"Attention Mask\" is simply an array of 0s and 1s indicating which tokens are padding and which aren't "
   ]
  },
  {
   "cell_type": "markdown",
   "metadata": {
    "id": "E-jDt4i3hFea"
   },
   "source": [
    "## Sentences to IDs\n",
    "\n",
    "The `tokenizer.__call__` function combines multiple steps for us:\n",
    "1. Split the sentence into tokens.\n",
    "2. Add the special tokens including `[CLS]` and `[SEP]` .\n",
    "3. Map the tokens to their IDs.\n",
    "4. Handle padding and assign attention mask accordingly.\n"
   ]
  },
  {
   "cell_type": "markdown",
   "metadata": {
    "id": "9Rzdc-TGqf7E"
   },
   "source": [
    "In our dataset, all sentences have three word tokens. However, we set the max length of sentence to 7 in this example to show what paddings will be in real world applications."
   ]
  },
  {
   "cell_type": "code",
   "execution_count": 8,
   "metadata": {
    "colab": {
     "base_uri": "https://localhost:8080/"
    },
    "id": "irjbFrNapXjn",
    "outputId": "802edf88-fe01-4741-d9f9-ff6f90bd6bde"
   },
   "outputs": [
    {
     "name": "stdout",
     "output_type": "stream",
     "text": [
      "\n",
      "Padding/truncating all sentences to 7 values...\n",
      "\n",
      "Padding token: \"[PAD]\", ID: 0\n"
     ]
    }
   ],
   "source": [
    "# Set the maximum sequence length.\n",
    "MAX_LEN = 7\n",
    "\n",
    "print('\\nPadding/truncating all sentences to %d values...' % MAX_LEN)\n",
    "\n",
    "print('\\nPadding token: \"{:}\", ID: {:}'.format(bert_tokenizer.pad_token, bert_tokenizer.pad_token_id))"
   ]
  },
  {
   "cell_type": "code",
   "execution_count": 9,
   "metadata": {
    "colab": {
     "base_uri": "https://localhost:8080/"
    },
    "id": "I3JJmMOdqeoO",
    "outputId": "e295859b-96bb-46bc-a51a-c61123ee74b7"
   },
   "outputs": [
    {
     "name": "stdout",
     "output_type": "stream",
     "text": [
      "Original:  five minus twelve\n",
      "Token IDs: tensor([  101,  2274, 15718,  4376,   102,     0,     0])\n",
      "Tokenized: [CLS] five minus twelve [SEP] [PAD] [PAD]\n",
      "Attention_mask tensor([1, 1, 1, 1, 1, 0, 0])\n"
     ]
    }
   ],
   "source": [
    "# pytorch version\n",
    "\n",
    "# `tokenizer.__call__` will:\n",
    "#   (1) Tokenize the sentence.\n",
    "#   (2) Prepend the `[CLS]` token to the start.\n",
    "#   (3) Append the `[SEP]` token to the end.\n",
    "#   (4) Map tokens to their IDs.\n",
    "#   (5) Add paddings.\n",
    "#   (6) Provide attention masks.\n",
    "tokenized_inputs = bert_tokenizer(\n",
    "                    inputs.tolist(),           # Sentence to encode.\n",
    "                    add_special_tokens = True, # Add '[CLS]' and '[SEP]'\n",
    "                    padding = 'max_length',    # pad to a length specified \n",
    "                                               # by the max_length.\n",
    "                    max_length = MAX_LEN,      # Truncate all sentences.\n",
    "                    return_tensors = 'pt',     # Return pytorch tensors.\n",
    "                )\n",
    "\n",
    "input_ids = tokenized_inputs['input_ids']\n",
    "attention_masks = tokenized_inputs['attention_mask']\n",
    "\n",
    "# Print sentence 0, now as a list of IDs.\n",
    "print('Original: ', inputs[0])\n",
    "print('Token IDs:', input_ids[0])\n",
    "print('Tokenized:', bert_tokenizer.decode(input_ids[0]))\n",
    "print('Attention_mask', attention_masks[0])\n",
    "\n",
    "bert_input_ids = input_ids\n",
    "bert_attention_masks = attention_masks"
   ]
  },
  {
   "cell_type": "markdown",
   "metadata": {
    "id": "DNu-FquIsSYM"
   },
   "source": [
    "## GPT Tokenizer\n",
    "\n",
    "Similar to the BERT Tokenizer, but we have to explicitly add the padding token."
   ]
  },
  {
   "cell_type": "code",
   "execution_count": 10,
   "metadata": {
    "colab": {
     "base_uri": "https://localhost:8080/"
    },
    "id": "8Qq32MFPtKQp",
    "outputId": "2b78c067-70ab-4138-8b7d-03fecf750d86"
   },
   "outputs": [
    {
     "name": "stderr",
     "output_type": "stream",
     "text": [
      "ftfy or spacy is not installed using BERT BasicTokenizer instead of SpaCy & ftfy.\n"
     ]
    },
    {
     "name": "stdout",
     "output_type": "stream",
     "text": [
      "Loading GPT tokenizer...\n",
      "pad_token <PAD>\n"
     ]
    }
   ],
   "source": [
    "from transformers import OpenAIGPTTokenizer\n",
    "\n",
    "print('Loading GPT tokenizer...')\n",
    "gpt_tokenizer = OpenAIGPTTokenizer.from_pretrained('openai-gpt', do_lower_case=True)\n",
    "special_tokens_dict = {'pad_token': '<PAD>'}\n",
    "gpt_tokenizer.add_special_tokens(special_tokens_dict)\n",
    "print('pad_token', gpt_tokenizer.pad_token)"
   ]
  },
  {
   "cell_type": "markdown",
   "metadata": {
    "id": "jjfDTJ20uapV"
   },
   "source": [
    "## GPT Required Formatting\n",
    "\n",
    "There is no special token in the pretraining stage of GPT. In fine tuning, although the original paper suggested using \"start\" and \"extract\" tokens, here we follow the implementation of HuggingFace that we are going to simply use the representation of the last token in the sentence for later classification. \n",
    "\n",
    "Therefore, we only need to add padding tokens.\n"
   ]
  },
  {
   "cell_type": "code",
   "execution_count": 11,
   "metadata": {
    "colab": {
     "base_uri": "https://localhost:8080/"
    },
    "id": "7DUEmEVWvt11",
    "outputId": "07f312bf-9588-48bd-dc17-9a5acaa51181"
   },
   "outputs": [
    {
     "name": "stdout",
     "output_type": "stream",
     "text": [
      "Original:  five minus twelve\n",
      "Token IDs: tensor([ 1643, 16572,  4274, 40478, 40478, 40478, 40478])\n",
      "Tokenized: five minus twelve <PAD> <PAD> <PAD> <PAD>\n",
      "Attention_mask tensor([1, 1, 1, 0, 0, 0, 0])\n"
     ]
    }
   ],
   "source": [
    "# pytorch version\n",
    "\n",
    "# `tokenizer.__call__` will:\n",
    "#   (1) Tokenize the sentence.\n",
    "#   (2) Prepend the `[CLS]` token to the start.\n",
    "#   (3) Append the `[SEP]` token to the end.\n",
    "#   (4) Map tokens to their IDs.\n",
    "#   (5) Add paddings.\n",
    "#   (6) Provide attention masks.\n",
    "tokenized_inputs = gpt_tokenizer(\n",
    "                    inputs.tolist(),           # Sentence to encode.\n",
    "                    padding = 'max_length',    # pad to a length specified \n",
    "                                               # by the max_length.\n",
    "                    max_length = MAX_LEN,      # Truncate all sentences.\n",
    "                    return_tensors = 'pt',     # Return pytorch tensors.\n",
    "                )\n",
    "\n",
    "input_ids = tokenized_inputs['input_ids']\n",
    "attention_masks = tokenized_inputs['attention_mask']\n",
    "\n",
    "# Print sentence 0, now as a list of IDs.\n",
    "print('Original: ', inputs[0])\n",
    "print('Token IDs:', input_ids[0])\n",
    "print('Tokenized:', gpt_tokenizer.decode(input_ids[0]))\n",
    "print('Attention_mask', attention_masks[0])\n",
    "\n",
    "gpt_input_ids = input_ids\n",
    "gpt_attention_masks = attention_masks"
   ]
  },
  {
   "cell_type": "markdown",
   "metadata": {
    "id": "wCMCg2B-xHZU"
   },
   "source": [
    "## Training & Validation Split\n",
    "\n",
    "Divide up our training set to use 80% for training and 20% for validation.\n",
    "\n",
    "We'also create an iterator for our dataset using the torch DataLoader class. This helps save on memory during training because, unlike a for loop, with an iterator the entire dataset does not need to be loaded into memory."
   ]
  },
  {
   "cell_type": "code",
   "execution_count": 12,
   "metadata": {
    "id": "O4WUEsPnxege"
   },
   "outputs": [],
   "source": [
    "# Use train_test_split to split our data into train and validation sets for\n",
    "# training\n",
    "from sklearn.model_selection import train_test_split\n",
    "import torch\n",
    "from torch.utils.data import TensorDataset, DataLoader, RandomSampler, SequentialSampler\n",
    "\n",
    "batch_size = 32\n",
    "\n",
    "def train_valid_split(input_ids, attention_masks):\n",
    "  # Use 80% for training and 20% for validation.\n",
    "  train_inputs, validation_inputs, train_labels, validation_labels = train_test_split(input_ids, labels, \n",
    "                                                              random_state=2021, test_size=0.2)\n",
    "  # Do the same for the masks.\n",
    "  train_masks, validation_masks, _, _ = train_test_split(attention_masks, labels,\n",
    "                                              random_state=2021, test_size=0.2)\n",
    "\n",
    "  set(labels)\n",
    "  print('example train_input:', train_inputs[0])\n",
    "  print('example attention_mask', train_masks[0])\n",
    "\n",
    "  train_labels = torch.tensor(train_labels)\n",
    "  validation_labels = torch.tensor(validation_labels)\n",
    "\n",
    "  # Create the DataLoader for our training set.\n",
    "  train_data = TensorDataset(train_inputs, train_masks, train_labels)\n",
    "  train_sampler = RandomSampler(train_data)\n",
    "  train_dataloader = DataLoader(train_data, sampler=train_sampler, batch_size=batch_size)\n",
    "\n",
    "  # Create the DataLoader for our validation set.\n",
    "  validation_data = TensorDataset(validation_inputs, validation_masks, validation_labels)\n",
    "  validation_sampler = SequentialSampler(validation_data)\n",
    "  validation_dataloader = DataLoader(validation_data, sampler=validation_sampler, batch_size=batch_size)\n",
    "\n",
    "  return train_dataloader, validation_dataloader"
   ]
  },
  {
   "cell_type": "code",
   "execution_count": 13,
   "metadata": {
    "colab": {
     "base_uri": "https://localhost:8080/"
    },
    "id": "zW8M1GiAx14E",
    "outputId": "58c965e6-8377-49f0-84b8-69bdba6c955b"
   },
   "outputs": [
    {
     "name": "stdout",
     "output_type": "stream",
     "text": [
      "example train_input: tensor([  101,  4376, 15718,  5417,   102,     0,     0])\n",
      "example attention_mask tensor([1, 1, 1, 1, 1, 0, 0])\n"
     ]
    }
   ],
   "source": [
    "bert_train_dataloader, bert_validation_dataloader = train_valid_split(bert_input_ids, bert_attention_masks)"
   ]
  },
  {
   "cell_type": "code",
   "execution_count": 14,
   "metadata": {
    "colab": {
     "base_uri": "https://localhost:8080/"
    },
    "id": "qEX1omYS0SWB",
    "outputId": "30a5fce9-a788-4a10-e67e-089784ff1e79"
   },
   "outputs": [
    {
     "name": "stdout",
     "output_type": "stream",
     "text": [
      "example train_input: tensor([ 4274, 16572,  3751, 40478, 40478, 40478, 40478])\n",
      "example attention_mask tensor([1, 1, 1, 0, 0, 0, 0])\n"
     ]
    }
   ],
   "source": [
    "gpt_train_dataloader, gpt_validation_dataloader = train_valid_split(gpt_input_ids, gpt_attention_masks)"
   ]
  },
  {
   "cell_type": "markdown",
   "metadata": {
    "id": "Vm_NPA-o0m3v"
   },
   "source": [
    "# 4. Questions"
   ]
  },
  {
   "cell_type": "markdown",
   "metadata": {
    "id": "jkp-UJdO0xbF"
   },
   "source": [
    "## Question1 [1pts]\n",
    "\n",
    "The pre-trained neural network here is the normal BERT model from [BertForSequenceClassification](https://huggingface.co/transformers/v2.2.0/model_doc/bert.html#bertforsequenceclassification). The goal is to add a new classification layer to the pre-trained model. We have provided two example classes to do so.\n",
    "\n",
    "In this part, you need to make your own  `GPTCSC413` class `self.classifier` which will build on a pretrained [gpt](https://huggingface.co/openai-gpt) model and add a clsddifier at the end."
   ]
  },
  {
   "cell_type": "code",
   "execution_count": 15,
   "metadata": {
    "id": "RbG9zbiz05OT"
   },
   "outputs": [],
   "source": [
    "from transformers import BertForSequenceClassification\n",
    "import torch.nn as nn\n",
    "class BertCSC413_Linear(BertForSequenceClassification):\n",
    "    def __init__(self, config):\n",
    "        super(BertCSC413_Linear, self).__init__(config)\n",
    "        self.classifier = nn.Linear(config.hidden_size, self.config.num_labels)\n",
    "\n",
    "class BertCSC413_MLP(BertForSequenceClassification):\n",
    "    def __init__(self, config):\n",
    "        super(BertCSC413_MLP, self).__init__(config)\n",
    "        self.classifier = nn.Sequential(\n",
    "            nn.Linear(config.hidden_size, config.hidden_size),\n",
    "            nn.ReLU(),\n",
    "            nn.Linear(config.hidden_size, self.config.num_labels)\n",
    "            )"
   ]
  },
  {
   "cell_type": "code",
   "execution_count": 16,
   "metadata": {
    "id": "Z6EPYj9d11cm"
   },
   "outputs": [],
   "source": [
    "from transformers import OpenAIGPTForSequenceClassification\n",
    "class GPTCSC413(OpenAIGPTForSequenceClassification):\n",
    "    def __init__(self, config):\n",
    "        super(GPTCSC413, self).__init__(config)\n",
    "        # Your own classifier goes here\n",
    "        self.score = nn.Linear(config.hidden_size, self.config.num_labels)"
   ]
  },
  {
   "cell_type": "markdown",
   "metadata": {
    "id": "YmeBvaXY2Mcm"
   },
   "source": [
    "## Question2 [0pts]\n",
    "\n",
    "We instantiated two different BERT models from `BertCSC413_MLP` class, which are called `model_freeze_bert` and `model_finetune_bert` in the notebook. \n",
    "\n",
    "**Run** the following code to train the models, and attach the training error curves of `model_freeze_bert` and `model_finetune_bert`.  \n",
    "    \n",
    "Comment on how these two models will differ during the training? Which one would lead to smaller training errors? Which one would generalize better? And briefly discuss why models are failing under certain target labels.   "
   ]
  },
  {
   "cell_type": "code",
   "execution_count": 17,
   "metadata": {
    "colab": {
     "base_uri": "https://localhost:8080/"
    },
    "id": "9sPmVD0P3CyS",
    "outputId": "39f0e637-3911-455e-8fb5-4681785f3f96"
   },
   "outputs": [
    {
     "name": "stderr",
     "output_type": "stream",
     "text": [
      "Some weights of the model checkpoint at bert-base-uncased were not used when initializing BertCSC413_MLP: ['cls.predictions.bias', 'cls.predictions.transform.dense.weight', 'cls.predictions.transform.dense.bias', 'cls.predictions.decoder.weight', 'cls.seq_relationship.weight', 'cls.seq_relationship.bias', 'cls.predictions.transform.LayerNorm.weight', 'cls.predictions.transform.LayerNorm.bias']\n",
      "- This IS expected if you are initializing BertCSC413_MLP from the checkpoint of a model trained on another task or with another architecture (e.g. initializing a BertForSequenceClassification model from a BertForPreTraining model).\n",
      "- This IS NOT expected if you are initializing BertCSC413_MLP from the checkpoint of a model that you expect to be exactly identical (initializing a BertForSequenceClassification model from a BertForSequenceClassification model).\n",
      "Some weights of BertCSC413_MLP were not initialized from the model checkpoint at bert-base-uncased and are newly initialized: ['classifier.0.weight', 'classifier.0.bias', 'classifier.2.weight', 'classifier.2.bias']\n",
      "You should probably TRAIN this model on a down-stream task to be able to use it for predictions and inference.\n"
     ]
    }
   ],
   "source": [
    "from transformers import AdamW, BertConfig\n",
    "\n",
    "model_freeze_bert = BertCSC413_MLP.from_pretrained(\n",
    "    \"bert-base-uncased\", \n",
    "    num_labels = 3, \n",
    "    output_attentions = False, \n",
    "    output_hidden_states = False,\n",
    ")"
   ]
  },
  {
   "cell_type": "code",
   "execution_count": 18,
   "metadata": {
    "id": "T-Y078xU3OGy"
   },
   "outputs": [],
   "source": [
    "for name, param in model_freeze_bert.named_parameters():\n",
    "\tif 'classifier' not in name: # classifier layer\n",
    "\t\tparam.requires_grad = False"
   ]
  },
  {
   "cell_type": "code",
   "execution_count": 19,
   "metadata": {
    "colab": {
     "base_uri": "https://localhost:8080/"
    },
    "id": "IeM-sMbq3Tem",
    "outputId": "0427c3e5-f270-4b23-f502-7118a26bc7dd"
   },
   "outputs": [
    {
     "name": "stderr",
     "output_type": "stream",
     "text": [
      "Some weights of the model checkpoint at bert-base-uncased were not used when initializing BertCSC413_Linear: ['cls.predictions.bias', 'cls.predictions.transform.dense.weight', 'cls.predictions.transform.dense.bias', 'cls.predictions.decoder.weight', 'cls.seq_relationship.weight', 'cls.seq_relationship.bias', 'cls.predictions.transform.LayerNorm.weight', 'cls.predictions.transform.LayerNorm.bias']\n",
      "- This IS expected if you are initializing BertCSC413_Linear from the checkpoint of a model trained on another task or with another architecture (e.g. initializing a BertForSequenceClassification model from a BertForPreTraining model).\n",
      "- This IS NOT expected if you are initializing BertCSC413_Linear from the checkpoint of a model that you expect to be exactly identical (initializing a BertForSequenceClassification model from a BertForSequenceClassification model).\n",
      "Some weights of BertCSC413_Linear were not initialized from the model checkpoint at bert-base-uncased and are newly initialized: ['classifier.weight', 'classifier.bias']\n",
      "You should probably TRAIN this model on a down-stream task to be able to use it for predictions and inference.\n"
     ]
    }
   ],
   "source": [
    "model_finetune_bert = BertCSC413_Linear.from_pretrained(\n",
    "    \"bert-base-uncased\", \n",
    "    num_labels = 3,    \n",
    "    output_attentions = False, \n",
    "    output_hidden_states = False,\n",
    ")"
   ]
  },
  {
   "cell_type": "code",
   "execution_count": 20,
   "metadata": {
    "colab": {
     "base_uri": "https://localhost:8080/"
    },
    "id": "hEuhZX6f3XiI",
    "outputId": "14096d4f-f30b-4135-b5f4-759e4dafa640"
   },
   "outputs": [
    {
     "name": "stdout",
     "output_type": "stream",
     "text": [
      "The BERT model has 201 different named parameters.\n",
      "\n",
      "==== Embedding Layer ====\n",
      "\n",
      "bert.embeddings.word_embeddings.weight                  (30522, 768)\n",
      "bert.embeddings.position_embeddings.weight                (512, 768)\n",
      "bert.embeddings.token_type_embeddings.weight                (2, 768)\n",
      "bert.embeddings.LayerNorm.weight                              (768,)\n",
      "bert.embeddings.LayerNorm.bias                                (768,)\n",
      "\n",
      "==== First Transformer ====\n",
      "\n",
      "bert.encoder.layer.0.attention.self.query.weight          (768, 768)\n",
      "bert.encoder.layer.0.attention.self.query.bias                (768,)\n",
      "bert.encoder.layer.0.attention.self.key.weight            (768, 768)\n",
      "bert.encoder.layer.0.attention.self.key.bias                  (768,)\n",
      "bert.encoder.layer.0.attention.self.value.weight          (768, 768)\n",
      "bert.encoder.layer.0.attention.self.value.bias                (768,)\n",
      "bert.encoder.layer.0.attention.output.dense.weight        (768, 768)\n",
      "bert.encoder.layer.0.attention.output.dense.bias              (768,)\n",
      "bert.encoder.layer.0.attention.output.LayerNorm.weight        (768,)\n",
      "bert.encoder.layer.0.attention.output.LayerNorm.bias          (768,)\n",
      "bert.encoder.layer.0.intermediate.dense.weight           (3072, 768)\n",
      "bert.encoder.layer.0.intermediate.dense.bias                 (3072,)\n",
      "bert.encoder.layer.0.output.dense.weight                 (768, 3072)\n",
      "bert.encoder.layer.0.output.dense.bias                        (768,)\n",
      "bert.encoder.layer.0.output.LayerNorm.weight                  (768,)\n",
      "bert.encoder.layer.0.output.LayerNorm.bias                    (768,)\n",
      "\n",
      "==== Output Layer ====\n",
      "\n",
      "bert.pooler.dense.weight                                  (768, 768)\n",
      "bert.pooler.dense.bias                                        (768,)\n",
      "classifier.weight                                           (3, 768)\n",
      "classifier.bias                                                 (3,)\n"
     ]
    }
   ],
   "source": [
    "# Model parameters visualization\n",
    "params = list(model_finetune_bert.named_parameters())\n",
    "\n",
    "print('The BERT model has {:} different named parameters.\\n'.format(len(params)))\n",
    "\n",
    "print('==== Embedding Layer ====\\n')\n",
    "\n",
    "for p in params[0:5]:\n",
    "    print(\"{:<55} {:>12}\".format(p[0], str(tuple(p[1].size()))))\n",
    "\n",
    "print('\\n==== First Transformer ====\\n')\n",
    "\n",
    "for p in params[5:21]:\n",
    "    print(\"{:<55} {:>12}\".format(p[0], str(tuple(p[1].size()))))\n",
    "\n",
    "print('\\n==== Output Layer ====\\n')\n",
    "\n",
    "for p in params[-4:]:\n",
    "    print(\"{:<55} {:>12}\".format(p[0], str(tuple(p[1].size()))))"
   ]
  },
  {
   "cell_type": "markdown",
   "metadata": {
    "id": "-io5NMws3ckc"
   },
   "source": [
    "We use\n",
    "- Batch size: 32\n",
    "- Learning rate (Adam): 2e-5  \n",
    "- Number of epochs: 4"
   ]
  },
  {
   "cell_type": "code",
   "execution_count": 21,
   "metadata": {
    "id": "c_gVnpy13iqC"
   },
   "outputs": [],
   "source": [
    "from transformers import get_linear_schedule_with_warmup\n",
    "import time\n",
    "import datetime\n",
    "\n",
    "def flat_accuracy(preds, labels):\n",
    "    pred_flat = np.argmax(preds, axis=1).flatten()\n",
    "    labels_flat = labels.flatten()\n",
    "    return np.sum(pred_flat == labels_flat) / len(labels_flat)\n",
    "\n",
    "def format_time(elapsed):\n",
    "    elapsed_rounded = int(round((elapsed)))\n",
    "    return str(datetime.timedelta(seconds=elapsed_rounded))\n",
    "\n",
    "def train_model(model, epochs, train_dataloader, validation_dataloader):      \n",
    "    optimizer = AdamW(model.parameters(),\n",
    "                  lr = 2e-5, # args.learning_rate - default is 5e-5, our notebook had 2e-5\n",
    "                  eps = 1e-8 # args.adam_epsilon  - default is 1e-8.\n",
    "                )\n",
    "    total_steps = len(train_dataloader) * epochs\n",
    "    scheduler = get_linear_schedule_with_warmup(optimizer, \n",
    "                                            num_warmup_steps = 0, \n",
    "                                            num_training_steps = total_steps)\n",
    "    loss_values = []\n",
    "    eval_accs = []\n",
    "\n",
    "    for epoch_i in range(0, epochs):\n",
    "        print(\"\")\n",
    "        print('======== Epoch {:} / {:} ========'.format(epoch_i + 1, epochs))\n",
    "        print('Training...')\n",
    "        t0 = time.time()\n",
    "\n",
    "        total_loss = 0\n",
    "        model.train()\n",
    "\n",
    "        for step, batch in enumerate(train_dataloader):\n",
    "\n",
    "            if step % 40 == 0 and not step == 0:\n",
    "                elapsed = format_time(time.time() - t0)\n",
    "                \n",
    "                # Report progress.\n",
    "                print('  Batch {:>5,}  of  {:>5,}.    Elapsed: {:}.'.format(step, len(train_dataloader), elapsed))\n",
    "\n",
    "            b_input_ids = batch[0] #.to(device)\n",
    "            b_input_mask = batch[1] #.to(device)\n",
    "            b_labels = batch[2] #.to(device)\n",
    "\n",
    "            model.zero_grad()        \n",
    "\n",
    "            # Perform a forward pass (evaluate the model on this training batch).\n",
    "            # This will return the loss (rather than the model output) because we\n",
    "            # have provided the `labels`.\n",
    "            # The documentation for this `model` function is here: \n",
    "            # https://huggingface.co/transformers/v2.2.0/model_doc/bert.html#transformers.BertForSequenceClassification\n",
    "            outputs = model(b_input_ids, \n",
    "                        token_type_ids=None, \n",
    "                        attention_mask=b_input_mask, \n",
    "                        labels=b_labels)\n",
    "            \n",
    "            # The call to `model` always returns a tuple, so we need to pull the \n",
    "            # loss value out of the tuple.\n",
    "            loss = outputs[0]\n",
    "\n",
    "            # Accumulate the training loss over all of the batches so that we can\n",
    "            # calculate the average loss at the end. `loss` is a Tensor containing a\n",
    "            # single value; the `.item()` function just returns the Python value \n",
    "            # from the tensor.\n",
    "            total_loss += loss.item()\n",
    "\n",
    "            # Perform a backward pass to calculate the gradients.\n",
    "            loss.backward()\n",
    "\n",
    "            # Clip the norm of the gradients to 1.0.\n",
    "            # This is to help prevent the \"exploding gradients\" problem.\n",
    "            torch.nn.utils.clip_grad_norm_(model.parameters(), 1.0)\n",
    "\n",
    "            # Update parameters and take a step using the computed gradient.\n",
    "            # The optimizer dictates the \"update rule\"--how the parameters are\n",
    "            # modified based on their gradients, the learning rate, etc.\n",
    "            optimizer.step()\n",
    "\n",
    "            # Update the learning rate.\n",
    "            scheduler.step()\n",
    "\n",
    "        # Calculate the average loss over the training data.\n",
    "        avg_train_loss = total_loss / len(train_dataloader)            \n",
    "        \n",
    "        # Store the loss value for plotting the learning curve.\n",
    "        loss_values.append(avg_train_loss)\n",
    "\n",
    "        print(\"\")\n",
    "        print(\"  Average training loss: {0:.2f}\".format(avg_train_loss))\n",
    "        print(\"  Training epcoh took: {:}\".format(format_time(time.time() - t0)))\n",
    "            \n",
    "\n",
    "        print(\"Running Validation...\")\n",
    "\n",
    "        t0 = time.time()\n",
    "        model.eval()\n",
    "\n",
    "        eval_loss, eval_accuracy = 0, 0\n",
    "        nb_eval_steps, nb_eval_examples = 0, 0\n",
    "\n",
    "        # Evaluate data for one epoch\n",
    "        for batch in validation_dataloader:\n",
    "            # batch = tuple(t.to(device) for t in batch)\n",
    "            batch = tuple(t for t in batch)\n",
    "            b_input_ids, b_input_mask, b_labels = batch\n",
    "            \n",
    "            with torch.no_grad():        \n",
    "                # Forward pass, calculate logit predictions.\n",
    "                # This will return the logits rather than the loss because we have\n",
    "                # not provided labels.\n",
    "                # token_type_ids is the same as the \"segment ids\", which \n",
    "                # differentiates sentence 1 and 2 in 2-sentence tasks.\n",
    "                outputs = model(b_input_ids, \n",
    "                                token_type_ids=None, \n",
    "                                attention_mask=b_input_mask)\n",
    "            \n",
    "            # Get the \"logits\" output by the model. The \"logits\" are the output\n",
    "            # values prior to applying an activation function like the softmax.\n",
    "            logits = outputs[0]\n",
    "            # Move logits and labels to CPU\n",
    "            logits = logits.detach().cpu().numpy()\n",
    "            label_ids = b_labels.to('cpu').numpy()\n",
    "            # Calculate the accuracy for this batch of test sentences.\n",
    "            tmp_eval_accuracy = flat_accuracy(logits, label_ids)\n",
    "            # Accumulate the total accuracy.\n",
    "            eval_accuracy += tmp_eval_accuracy\n",
    "            # Track the number of batches\n",
    "            nb_eval_steps += 1\n",
    "\n",
    "        avg_eval_acc = eval_accuracy/nb_eval_steps\n",
    "        print(\"  Accuracy: {0:.2f}\".format(avg_eval_acc))\n",
    "        print(\"  Validation took: {:}\".format(format_time(time.time() - t0)))\n",
    "        eval_accs.append(avg_eval_acc)\n",
    "    print(\"\")\n",
    "    print(\"Training complete!\")\n",
    "    return loss_values, eval_accs"
   ]
  },
  {
   "cell_type": "code",
   "execution_count": 22,
   "metadata": {
    "colab": {
     "base_uri": "https://localhost:8080/"
    },
    "id": "__uaGXF13jXY",
    "outputId": "b5215051-317c-4cdf-e343-e4e2a27f0d1a"
   },
   "outputs": [
    {
     "name": "stdout",
     "output_type": "stream",
     "text": [
      "\n",
      "======== Epoch 1 / 4 ========\n",
      "Training...\n",
      "\n",
      "  Average training loss: 0.97\n",
      "  Training epcoh took: 0:00:10\n",
      "Running Validation...\n",
      "  Accuracy: 0.74\n",
      "  Validation took: 0:00:02\n",
      "\n",
      "======== Epoch 2 / 4 ========\n",
      "Training...\n",
      "\n",
      "  Average training loss: 0.79\n",
      "  Training epcoh took: 0:00:10\n",
      "Running Validation...\n",
      "  Accuracy: 0.74\n",
      "  Validation took: 0:00:02\n",
      "\n",
      "======== Epoch 3 / 4 ========\n",
      "Training...\n",
      "\n",
      "  Average training loss: 0.72\n",
      "  Training epcoh took: 0:00:10\n",
      "Running Validation...\n",
      "  Accuracy: 0.74\n",
      "  Validation took: 0:00:02\n",
      "\n",
      "======== Epoch 4 / 4 ========\n",
      "Training...\n",
      "\n",
      "  Average training loss: 0.70\n",
      "  Training epcoh took: 0:00:10\n",
      "Running Validation...\n",
      "  Accuracy: 0.74\n",
      "  Validation took: 0:00:02\n",
      "\n",
      "Training complete!\n"
     ]
    }
   ],
   "source": [
    "freeze_bert_loss_vals, freeze_bert_eval_accs = train_model(model_freeze_bert, 4, \n",
    "                                    bert_train_dataloader,\n",
    "                                    bert_validation_dataloader) # about 1 minute for 4 epochs using CPU"
   ]
  },
  {
   "cell_type": "code",
   "execution_count": 23,
   "metadata": {
    "colab": {
     "base_uri": "https://localhost:8080/"
    },
    "id": "3k7F9xJD3pP4",
    "outputId": "726f59b2-a691-404d-bc44-e98ddbc992b6"
   },
   "outputs": [
    {
     "name": "stdout",
     "output_type": "stream",
     "text": [
      "\n",
      "======== Epoch 1 / 4 ========\n",
      "Training...\n",
      "\n",
      "  Average training loss: 0.72\n",
      "  Training epcoh took: 0:00:42\n",
      "Running Validation...\n",
      "  Accuracy: 0.80\n",
      "  Validation took: 0:00:02\n",
      "\n",
      "======== Epoch 2 / 4 ========\n",
      "Training...\n",
      "\n",
      "  Average training loss: 0.43\n",
      "  Training epcoh took: 0:00:42\n",
      "Running Validation...\n",
      "  Accuracy: 0.94\n",
      "  Validation took: 0:00:02\n",
      "\n",
      "======== Epoch 3 / 4 ========\n",
      "Training...\n",
      "\n",
      "  Average training loss: 0.33\n",
      "  Training epcoh took: 0:00:42\n",
      "Running Validation...\n",
      "  Accuracy: 0.96\n",
      "  Validation took: 0:00:02\n",
      "\n",
      "======== Epoch 4 / 4 ========\n",
      "Training...\n",
      "\n",
      "  Average training loss: 0.28\n",
      "  Training epcoh took: 0:00:42\n",
      "Running Validation...\n",
      "  Accuracy: 0.95\n",
      "  Validation took: 0:00:02\n",
      "\n",
      "Training complete!\n"
     ]
    }
   ],
   "source": [
    "finetune_bert_loss_vals, finetune_bert_eval_accs = train_model(model_finetune_bert, 4,\n",
    "                                                               bert_train_dataloader,\n",
    "                                                               bert_validation_dataloader) # about 5 minutes for 4 epochs using CPU"
   ]
  },
  {
   "cell_type": "code",
   "execution_count": 24,
   "metadata": {
    "colab": {
     "base_uri": "https://localhost:8080/",
     "height": 405
    },
    "id": "o3J-c8wQ5gDj",
    "outputId": "0995b760-b049-4b0e-ed87-022321f5e239"
   },
   "outputs": [
    {
     "data": {
      "image/png": "[encoded data removed]",
      "text/plain": [
       "<Figure size 864x432 with 2 Axes>"
      ]
     },
     "metadata": {
      "tags": []
     },
     "output_type": "display_data"
    }
   ],
   "source": [
    "import matplotlib.pyplot as plt\n",
    "% matplotlib inline\n",
    "import seaborn as sns\n",
    "def plot_loss_and_acc(loss_vals, eval_accs):\n",
    "    sns.set(style='darkgrid')\n",
    "    sns.set(font_scale=1.5)\n",
    "    plt.rcParams[\"figure.figsize\"] = (12,6)\n",
    "    fig, ax1 = plt.subplots(1,1)\n",
    "    ax1.plot(loss_vals, 'b-o', label = 'training loss')\n",
    "    ax2 = ax1.twinx()\n",
    "    ax2.plot(eval_accs, 'y-o', label = 'validation accuracy')\n",
    "    ax2.set_title(\"Training loss and validation accuracy\")\n",
    "    ax2.set_xlabel(\"Epoch\")\n",
    "    ax1.set_ylabel(\"Loss\", color='b')\n",
    "    ax2.set_ylabel(\"Accuracy\", color='y')\n",
    "    ax1.tick_params(axis='y', rotation=0, labelcolor='b' )\n",
    "    ax2.tick_params(axis='y', rotation=0, labelcolor='y' )\n",
    "    plt.show()\n",
    "plot_loss_and_acc(freeze_bert_loss_vals, freeze_bert_eval_accs)"
   ]
  },
  {
   "cell_type": "code",
   "execution_count": 25,
   "metadata": {
    "colab": {
     "base_uri": "https://localhost:8080/",
     "height": 405
    },
    "id": "c1dYIrtT5kIu",
    "outputId": "dddf54b7-3418-4a4f-8d2d-a6df0de03d99"
   },
   "outputs": [
    {
     "data": {
      "image/png": "[encoded data removed]",
      "text/plain": [
       "<Figure size 864x432 with 2 Axes>"
      ]
     },
     "metadata": {
      "tags": []
     },
     "output_type": "display_data"
    }
   ],
   "source": [
    "plot_loss_and_acc(finetune_bert_loss_vals, finetune_bert_eval_accs)"
   ]
  },
  {
   "cell_type": "markdown",
   "metadata": {
    "id": "jAfraCnR5xP8"
   },
   "source": [
    "*Run* the evaluation functions.  Report the test performances of using trained model\\_freeze\\_bert and model\\_finetune\\_bert, and briefly discuss why models are failing under certain target labels"
   ]
  },
  {
   "cell_type": "code",
   "execution_count": 26,
   "metadata": {
    "colab": {
     "base_uri": "https://localhost:8080/"
    },
    "id": "x9pLcGpm52rU",
    "outputId": "4a556bfb-412e-4168-f9bd-8ab856fd316b"
   },
   "outputs": [
    {
     "name": "stdout",
     "output_type": "stream",
     "text": [
      "Number of test sentences: 160\n",
      "\n"
     ]
    }
   ],
   "source": [
    "import pandas as pd\n",
    "\n",
    "# Load the dataset into a pandas dataframe.\n",
    "#df = pd.read_csv(\"./output.txt_test.csv\", delimiter='\\t', header=None, names=['sentence_source', 'label', 'label_notes', 'sentence'])\n",
    "df = pd.read_csv(\"./PA03_data_20_test.csv\", header=0, names=[\"index\", \"input\", \"label\"])\n",
    "\n",
    "# Report the number of sentences.\n",
    "print('Number of test sentences: {:,}\\n'.format(df.shape[0]))\n",
    "\n",
    "inputs = df.input.values\n",
    "labels = df.label.values\n",
    "\n",
    "def make_test_data(tokenizer):\n",
    "  tokenized_inputs = tokenizer(\n",
    "                      inputs.tolist(),                     # Sentence to encode.\n",
    "                      add_special_tokens = True, # Add '[CLS]' and '[SEP]'\n",
    "                      padding = 'max_length',    # pad to a length specified \n",
    "                                                  # by the max_length.\n",
    "                      max_length = 7,            # Truncate all sentences.\n",
    "                      return_tensors = 'pt',     # Return pytorch tensors.\n",
    "                  )\n",
    "\n",
    "  input_ids = tokenized_inputs['input_ids']\n",
    "  attention_masks = tokenized_inputs['attention_mask']\n",
    "\n",
    "\n",
    "  # Convert to tensors.\n",
    "  prediction_inputs = torch.tensor(input_ids)\n",
    "  prediction_masks = torch.tensor(attention_masks)\n",
    "  prediction_labels = torch.tensor(labels)\n",
    "\n",
    "  # Set the batch size.  \n",
    "  batch_size = 32  \n",
    "\n",
    "  # Create the DataLoader.\n",
    "  prediction_data = TensorDataset(prediction_inputs, prediction_masks, prediction_labels)\n",
    "  prediction_sampler = SequentialSampler(prediction_data)\n",
    "  prediction_dataloader = DataLoader(prediction_data, sampler=prediction_sampler, batch_size=batch_size)\n",
    "  return prediction_dataloader"
   ]
  },
  {
   "cell_type": "code",
   "execution_count": 27,
   "metadata": {
    "colab": {
     "base_uri": "https://localhost:8080/"
    },
    "id": "7IZPn1SR65yw",
    "outputId": "e7151094-5c98-460f-b5f1-e3b574c4b500"
   },
   "outputs": [
    {
     "name": "stderr",
     "output_type": "stream",
     "text": [
      "/usr/local/lib/python3.7/dist-packages/ipykernel_launcher.py:28: UserWarning: To copy construct from a tensor, it is recommended to use sourceTensor.clone().detach() or sourceTensor.clone().detach().requires_grad_(True), rather than torch.tensor(sourceTensor).\n",
      "/usr/local/lib/python3.7/dist-packages/ipykernel_launcher.py:29: UserWarning: To copy construct from a tensor, it is recommended to use sourceTensor.clone().detach() or sourceTensor.clone().detach().requires_grad_(True), rather than torch.tensor(sourceTensor).\n"
     ]
    }
   ],
   "source": [
    "bert_test_dataloader = make_test_data(bert_tokenizer)"
   ]
  },
  {
   "cell_type": "code",
   "execution_count": 28,
   "metadata": {
    "id": "CfxsJnQU7I6e"
   },
   "outputs": [],
   "source": [
    "def eval_testdata(model_test, prediction_dataloader, tokenizer, show_all_predictions=False):\n",
    "    print('Predicting labels for {:,} test sentences...'.format(len(prediction_dataloader.dataset)))\n",
    "\n",
    "    # Put model in evaluation mode\n",
    "    model_test.eval()\n",
    "\n",
    "    # Tracking variables \n",
    "    predictions , true_labels, input_sents = [], [], []\n",
    "\n",
    "    # Predict \n",
    "    for batch in prediction_dataloader:\n",
    "        # Unpack the inputs from our dataloader\n",
    "        b_input_ids, b_input_mask, b_labels = batch\n",
    "        decoded_inputs = [tokenizer.decode(b_input_ids[i]).strip(\"[CLS] \").strip( \"[SEP] \").strip(\" [PAD] \").strip(\"[PAD]\").strip(\" [SE\") for i in range(len(b_input_ids))]\n",
    "        # Telling the model not to compute or store gradients, saving memory and \n",
    "        # speeding up prediction\n",
    "        with torch.no_grad():\n",
    "            # Forward pass, calculate logit predictions\n",
    "            outputs = model_test(b_input_ids, token_type_ids=None, \n",
    "                            attention_mask=b_input_mask)\n",
    "\n",
    "        logits = outputs[0]\n",
    "\n",
    "        # Move logits and labels to CPU\n",
    "        logits = logits.detach().cpu().numpy()\n",
    "        label_ids = b_labels.to('cpu').numpy()\n",
    "        input_sents.extend(decoded_inputs)\n",
    "        \n",
    "        # Store predictions and true labels\n",
    "        predictions.extend(np.argmax(logits, axis=1))\n",
    "        true_labels.extend(label_ids)\n",
    "    correct = [0,0,0]\n",
    "    totals = [0, 0, 0]\n",
    "    for true_label, prediction in zip(true_labels, predictions):\n",
    "        if true_label == prediction:\n",
    "            correct[true_label] += 1\n",
    "        totals[true_label] += 1\n",
    "    print(\"Number of expressions with negative result\", true_labels.count(0), \"\\n\",  correct[0],  \" predicted correctly\",  \", accuracy \", correct[0]/totals[0] , \"\\n\")\n",
    "    print(\"Number of expressions with 0 result\", true_labels.count(1), \"\\n\",  correct[1], \" predicted correctly\", \", accuracy \", correct[1]/totals[1], \"\\n\")\n",
    "    print(\"Number of expressions with positive result\", true_labels.count(2),\"\\n\",  correct[2], \" predicted correctly\",\", accuracy \", correct[2]/totals[2], \"\\n\")\n",
    "    if show_all_predictions:\n",
    "        index_to_sentiment_map = {0:\"negative\", 1:\"zero\", 2:\"positive\"}\n",
    "        for sent in [sent + \"--> \"+index_to_sentiment_map[index]  for sent, index in zip(input_sents, predictions)]:\n",
    "            print(sent)"
   ]
  },
  {
   "cell_type": "code",
   "execution_count": 29,
   "metadata": {
    "colab": {
     "base_uri": "https://localhost:8080/"
    },
    "id": "deSFj2hs71g6",
    "outputId": "ca423003-d931-4700-862c-8f2b0a014c28"
   },
   "outputs": [
    {
     "name": "stdout",
     "output_type": "stream",
     "text": [
      "Predicting labels for 160 test sentences...\n",
      "Number of expressions with negative result 47 \n",
      " 0  predicted correctly , accuracy  0.0 \n",
      "\n",
      "Number of expressions with 0 result 2 \n",
      " 0  predicted correctly , accuracy  0.0 \n",
      "\n",
      "Number of expressions with positive result 111 \n",
      " 111  predicted correctly , accuracy  1.0 \n",
      "\n"
     ]
    }
   ],
   "source": [
    "eval_testdata(model_freeze_bert, bert_test_dataloader, bert_tokenizer, show_all_predictions=False)"
   ]
  },
  {
   "cell_type": "code",
   "execution_count": 30,
   "metadata": {
    "colab": {
     "base_uri": "https://localhost:8080/"
    },
    "id": "nhg9DIg28DCF",
    "outputId": "7279814e-7638-4783-8977-d0d90f26b6a8"
   },
   "outputs": [
    {
     "name": "stdout",
     "output_type": "stream",
     "text": [
      "Predicting labels for 160 test sentences...\n",
      "Number of expressions with negative result 47 \n",
      " 47  predicted correctly , accuracy  1.0 \n",
      "\n",
      "Number of expressions with 0 result 2 \n",
      " 0  predicted correctly , accuracy  0.0 \n",
      "\n",
      "Number of expressions with positive result 111 \n",
      " 109  predicted correctly , accuracy  0.9819819819819819 \n",
      "\n"
     ]
    }
   ],
   "source": [
    "eval_testdata(model_finetune_bert, bert_test_dataloader, bert_tokenizer, show_all_predictions=False)"
   ]
  },
  {
   "cell_type": "markdown",
   "metadata": {
    "id": "RAFzVhML8mru"
   },
   "source": [
    "## Question3 [0pts]\n",
    "\n",
    "We instantiated a GPT model from `GPTCSC413` class, which is called `model_finetune_gpt`. **Run** the training and evaluation functions for the model.\n",
    "    \n",
    "Compare the performance of `model_finetune_bert` and `model_finetune_gpt`. Try a few unseen examples of arithmetic questions using both model, and find 10 interesting results."
   ]
  },
  {
   "cell_type": "code",
   "execution_count": 31,
   "metadata": {
    "colab": {
     "base_uri": "https://localhost:8080/"
    },
    "id": "K1IzXoJ09O-f",
    "outputId": "e114fb0a-6cbc-4e7e-b22b-bdd5c19cd850"
   },
   "outputs": [
    {
     "name": "stderr",
     "output_type": "stream",
     "text": [
      "Some weights of GPTCSC413 were not initialized from the model checkpoint at openai-gpt and are newly initialized: ['score.bias', 'score.weight']\n",
      "You should probably TRAIN this model on a down-stream task to be able to use it for predictions and inference.\n"
     ]
    },
    {
     "name": "stdout",
     "output_type": "stream",
     "text": [
      "pad token set to:  40478\n"
     ]
    }
   ],
   "source": [
    "model_finetune_gpt = GPTCSC413.from_pretrained(\n",
    "    \"openai-gpt\", \n",
    "    num_labels = 3,    \n",
    "    output_attentions = False, \n",
    "    output_hidden_states = False,\n",
    ")\n",
    "# resize model embedding to match new tokenizer\n",
    "model_finetune_gpt.resize_token_embeddings(len(gpt_tokenizer))\n",
    "\n",
    "# fix model padding token id\n",
    "model_finetune_gpt.config.pad_token_id = gpt_tokenizer.pad_token_id\n",
    "print('pad token set to: ', model_finetune_gpt.config.pad_token_id)"
   ]
  },
  {
   "cell_type": "code",
   "execution_count": 32,
   "metadata": {
    "colab": {
     "base_uri": "https://localhost:8080/"
    },
    "id": "Dc9cSULR91Wj",
    "outputId": "d9309545-e1d4-4dd7-ea73-5457df8fcf66"
   },
   "outputs": [
    {
     "name": "stdout",
     "output_type": "stream",
     "text": [
      "\n",
      "======== Epoch 1 / 4 ========\n",
      "Training...\n",
      "\n",
      "  Average training loss: 0.55\n",
      "  Training epcoh took: 0:00:45\n",
      "Running Validation...\n",
      "  Accuracy: 0.87\n",
      "  Validation took: 0:00:03\n",
      "\n",
      "======== Epoch 2 / 4 ========\n",
      "Training...\n",
      "\n",
      "  Average training loss: 0.32\n",
      "  Training epcoh took: 0:00:45\n",
      "Running Validation...\n",
      "  Accuracy: 0.92\n",
      "  Validation took: 0:00:03\n",
      "\n",
      "======== Epoch 3 / 4 ========\n",
      "Training...\n",
      "\n",
      "  Average training loss: 0.26\n",
      "  Training epcoh took: 0:00:45\n",
      "Running Validation...\n",
      "  Accuracy: 0.93\n",
      "  Validation took: 0:00:03\n",
      "\n",
      "======== Epoch 4 / 4 ========\n",
      "Training...\n",
      "\n",
      "  Average training loss: 0.19\n",
      "  Training epcoh took: 0:00:44\n",
      "Running Validation...\n",
      "  Accuracy: 0.96\n",
      "  Validation took: 0:00:03\n",
      "\n",
      "Training complete!\n"
     ]
    }
   ],
   "source": [
    "finttune_gpt_loss_values, finttune_gpt_eval_accs = train_model(model_finetune_gpt, 4, \n",
    "                                                               gpt_train_dataloader,\n",
    "                                                               gpt_validation_dataloader) # about 5 minutes for 4 epochs using CPU"
   ]
  },
  {
   "cell_type": "code",
   "execution_count": 33,
   "metadata": {
    "colab": {
     "base_uri": "https://localhost:8080/",
     "height": 629
    },
    "id": "tHo0UO9P98WG",
    "outputId": "d3b88234-abb5-443e-bab7-79f25ce8ebfd"
   },
   "outputs": [
    {
     "data": {
      "image/png": "[encoded data removed]",
      "text/plain": [
       "<Figure size 864x432 with 2 Axes>"
      ]
     },
     "metadata": {
      "tags": []
     },
     "output_type": "display_data"
    },
    {
     "name": "stderr",
     "output_type": "stream",
     "text": [
      "/usr/local/lib/python3.7/dist-packages/ipykernel_launcher.py:28: UserWarning: To copy construct from a tensor, it is recommended to use sourceTensor.clone().detach() or sourceTensor.clone().detach().requires_grad_(True), rather than torch.tensor(sourceTensor).\n",
      "/usr/local/lib/python3.7/dist-packages/ipykernel_launcher.py:29: UserWarning: To copy construct from a tensor, it is recommended to use sourceTensor.clone().detach() or sourceTensor.clone().detach().requires_grad_(True), rather than torch.tensor(sourceTensor).\n"
     ]
    },
    {
     "name": "stdout",
     "output_type": "stream",
     "text": [
      "Predicting labels for 160 test sentences...\n",
      "Number of expressions with negative result 47 \n",
      " 45  predicted correctly , accuracy  0.9574468085106383 \n",
      "\n",
      "Number of expressions with 0 result 2 \n",
      " 0  predicted correctly , accuracy  0.0 \n",
      "\n",
      "Number of expressions with positive result 111 \n",
      " 111  predicted correctly , accuracy  1.0 \n",
      "\n"
     ]
    }
   ],
   "source": [
    "plot_loss_and_acc(finttune_gpt_loss_values, finttune_gpt_eval_accs)\n",
    "gpt_test_dataloader = make_test_data(gpt_tokenizer)\n",
    "eval_testdata(model_finetune_gpt, gpt_test_dataloader, gpt_tokenizer, show_all_predictions=False)"
   ]
  },
  {
   "cell_type": "code",
   "execution_count": 34,
   "metadata": {
    "id": "MfHnZz-p-rTd"
   },
   "outputs": [],
   "source": [
    "index_to_sentiment_map = {0:\"negative\", 1:\"zero\", 2:\"positive\"}\n",
    "def what_is(arithmetic_input, model=model_finetune_gpt):\n",
    "    if isinstance(model, GPTCSC413):\n",
    "      tokenizer = gpt_tokenizer\n",
    "    elif isinstance(model, BertForSequenceClassification):\n",
    "      tokenizer = bert_tokenizer\n",
    "    else:\n",
    "      raise ValueError\n",
    "    tokenized_inputs = tokenizer(\n",
    "                        arithmetic_input,                     # Sentence to encode.\n",
    "                        add_special_tokens = True, # Add '[CLS]' and '[SEP]'\n",
    "                        padding = 'max_length',    # pad to a length specified \n",
    "                                                    # by the max_length.\n",
    "                        max_length = 7,            # Truncate all sentences.\n",
    "                        return_tensors = 'pt',     # Return pytorch tensors.\n",
    "                    )\n",
    "\n",
    "    input_ids = tokenized_inputs['input_ids']\n",
    "    attention_masks = tokenized_inputs['attention_mask']\n",
    "\n",
    "\n",
    "    with torch.no_grad():\n",
    "        outputs = model(input_ids, token_type_ids=None, \n",
    "                            attention_mask=attention_masks)\n",
    "        logits = outputs[0]\n",
    "        logits = logits.detach().cpu().numpy()\n",
    "        print(index_to_sentiment_map[np.argmax(logits, axis=1)[0]])"
   ]
  },
  {
   "cell_type": "code",
   "execution_count": 35,
   "metadata": {
    "colab": {
     "base_uri": "https://localhost:8080/"
    },
    "id": "Wbr2Rm9pAuP7",
    "outputId": "d37b6f4e-ea99-49a2-d745-813d4d8fdbc9"
   },
   "outputs": [
    {
     "name": "stdout",
     "output_type": "stream",
     "text": [
      "negative\n"
     ]
    }
   ],
   "source": [
    "what_is(\"three minus two minus two\", model=model_finetune_gpt)"
   ]
  },
  {
   "cell_type": "code",
   "execution_count": 36,
   "metadata": {
    "colab": {
     "base_uri": "https://localhost:8080/"
    },
    "id": "-CzHCK4qAzo_",
    "outputId": "ee68818a-22ce-4703-edde-5eae8ee154a7"
   },
   "outputs": [
    {
     "name": "stdout",
     "output_type": "stream",
     "text": [
      "negative\n"
     ]
    }
   ],
   "source": [
    "what_is(\"three minus two minus two\", model=model_finetune_bert)"
   ]
  },
  {
   "cell_type": "code",
   "execution_count": 37,
   "metadata": {
    "colab": {
     "base_uri": "https://localhost:8080/"
    },
    "id": "5S-7m67wBXgD",
    "outputId": "5af987ad-3042-4a1c-e830-4c8cc6352d87"
   },
   "outputs": [
    {
     "name": "stdout",
     "output_type": "stream",
     "text": [
      "negative\n"
     ]
    }
   ],
   "source": [
    "what_is(\"three minus 1\", model=model_finetune_bert)"
   ]
  },
  {
   "cell_type": "markdown",
   "metadata": {
    "id": "2azMw2tniPg2"
   },
   "source": [
    "## Question4 [1pts]\n",
    "\n",
    "Come up with 1 scenario/application that GPT architecture is more preferred than BERT. The proposed scenario/appication is not limited to sentiment classification or Natual Language Processing (NLP)."
   ]
  },
  {
   "cell_type": "code",
   "execution_count": 37,
   "metadata": {
    "id": "Hpw-i3rsid4v"
   },
   "outputs": [],
   "source": []
  },
  {
   "cell_type": "markdown",
   "metadata": {
    "id": "VCxlwwp1BhdF"
   },
   "source": [
    "## Question5 [0pts]\n",
    "\n",
    "This is an open question, and we will give marks as long as you show an attempt to try one of the following tasks.   \n",
    "1. Try data augmentation tricks to improve the performances for certain target labels that models were failing to predict.  \n",
    "2. Make a t-sne or PCA plot to visualize the embedding vectors of word tokens related to arithmetic expressions. \n",
    "3. Try different hyperparameter tunings. E.g. learning rates, optimizer, architecture of the classifier, training epochs, and batch size.  \n",
    "4. Evaluate the Multi-class Matthews correlation score for our imbalanced test dataset.  \n",
    "5. Run a baseline model using MLP without pre-trained BERT or GPT. You can assume the sequence length of all the data is 3 in this case."
   ]
  },
  {
   "cell_type": "code",
   "execution_count": 37,
   "metadata": {
    "id": "jHSdx-ECBwk-"
   },
   "outputs": [],
   "source": []
  }
 ],
 "metadata": {
  "accelerator": "GPU",
  "colab": {
   "collapsed_sections": [],
   "name": "Copy of bert_and_gpt.ipynb",
   "provenance": [],
   "toc_visible": true
  },
  "kernelspec": {
   "display_name": "Python 3",
   "language": "python",
   "name": "python3"
  },
  "language_info": {
   "codemirror_mode": {
    "name": "ipython",
    "version": 3
   },
   "file_extension": ".py",
   "mimetype": "text/x-python",
   "name": "python",
   "nbconvert_exporter": "python",
   "pygments_lexer": "ipython3",
   "version": "3.8.5"
  }
 },
 "nbformat": 4,
 "nbformat_minor": 1
}
